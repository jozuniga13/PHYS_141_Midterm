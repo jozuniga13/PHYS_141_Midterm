{
  "nbformat": 4,
  "nbformat_minor": 0,
  "metadata": {
    "colab": {
      "name": "PYTUT.ipynb",
      "provenance": [],
      "authorship_tag": "ABX9TyMuq0HwpczkMW2FYqKYRMOo",
      "include_colab_link": true
    },
    "kernelspec": {
      "name": "python3",
      "display_name": "Python 3"
    },
    "language_info": {
      "name": "python"
    }
  },
  "cells": [
    {
      "cell_type": "markdown",
      "metadata": {
        "id": "view-in-github",
        "colab_type": "text"
      },
      "source": [
        "<a href=\"https://colab.research.google.com/github/jozuniga13/PHYS_141_Midterm/blob/main/PYTUT.ipynb\" target=\"_parent\"><img src=\"https://colab.research.google.com/assets/colab-badge.svg\" alt=\"Open In Colab\"/></a>"
      ]
    },
    {
      "cell_type": "code",
      "execution_count": 1,
      "metadata": {
        "colab": {
          "base_uri": "https://localhost:8080/"
        },
        "id": "hPGE1dtybQM1",
        "outputId": "85a74f89-87de-4f02-9543-ab10b88ff733"
      },
      "outputs": [
        {
          "output_type": "stream",
          "name": "stdout",
          "text": [
            "hello world\n"
          ]
        }
      ],
      "source": [
        "print(\"hello world\")\n"
      ]
    },
    {
      "cell_type": "code",
      "source": [
        "import numpy as np\n",
        "a = np.array([[1, 2, 3],\n",
        "              [2, 3, 2],\n",
        "              [1, 1, 2],\n",
        "              [2, 2, 2]])\n",
        "a.shape"
      ],
      "metadata": {
        "colab": {
          "base_uri": "https://localhost:8080/"
        },
        "id": "mfRaR9SMbWye",
        "outputId": "ea960d65-3d46-4379-c790-ed288a78f928"
      },
      "execution_count": 3,
      "outputs": [
        {
          "output_type": "execute_result",
          "data": {
            "text/plain": [
              "(4, 3)"
            ]
          },
          "metadata": {},
          "execution_count": 3
        }
      ]
    },
    {
      "cell_type": "code",
      "source": [
        "b = np.array([[1],\n",
        "              [2], \n",
        "              [1]])\n",
        "b.shape"
      ],
      "metadata": {
        "colab": {
          "base_uri": "https://localhost:8080/"
        },
        "id": "N55Rg6h4bhEO",
        "outputId": "66beafd6-16b1-4f98-f60b-9b906b4e99e9"
      },
      "execution_count": 4,
      "outputs": [
        {
          "output_type": "execute_result",
          "data": {
            "text/plain": [
              "(3, 1)"
            ]
          },
          "metadata": {},
          "execution_count": 4
        }
      ]
    },
    {
      "cell_type": "code",
      "source": [
        "%%time\n",
        "a@b"
      ],
      "metadata": {
        "colab": {
          "base_uri": "https://localhost:8080/"
        },
        "id": "D-IFLJOGbmR4",
        "outputId": "f93f070f-99f4-4342-a0e6-f6c2a6fc2bb9"
      },
      "execution_count": 5,
      "outputs": [
        {
          "output_type": "stream",
          "name": "stdout",
          "text": [
            "CPU times: user 48 µs, sys: 0 ns, total: 48 µs\n",
            "Wall time: 52.7 µs\n"
          ]
        },
        {
          "output_type": "execute_result",
          "data": {
            "text/plain": [
              "array([[ 8],\n",
              "       [10],\n",
              "       [ 5],\n",
              "       [ 8]])"
            ]
          },
          "metadata": {},
          "execution_count": 5
        }
      ]
    },
    {
      "cell_type": "code",
      "source": [
        "from scipy.special import hermite\n",
        "from math import factorial\n",
        "\n",
        "def E(v):\n",
        "    '''Eigenvalues in units of h'''\n",
        "    return (v + 0.5)\n",
        "\n",
        "def V(x):\n",
        "    \"\"\"Potential energy function\"\"\"\n",
        "    return 0.5 * x ** 2\n",
        "\n",
        "def N(v):\n",
        "    '''Normalization constant '''\n",
        "    return 1. / np.sqrt(np.sqrt(np.pi) * 2 ** v * factorial(v))\n",
        "\n",
        "def psi(v, x):\n",
        "    \"\"\"Harmonic oscillator wavefunction for level v computed on grid of points x\"\"\"\n",
        "    Hr=hermite(v)\n",
        "    Psix = N(v) * Hr(x) * np.exp(-0.5 * x ** 2)\n",
        "    return Psix\n"
      ],
      "metadata": {
        "id": "FsveK4qacMS_"
      },
      "execution_count": 8,
      "outputs": []
    },
    {
      "cell_type": "code",
      "source": [
        "import matplotlib.pyplot as plt\n",
        "%matplotlib inline\n",
        "\n",
        "# plot up to level vmax\n",
        "VMAX=3\n",
        "\n",
        "# Range of x determine by classical tunring points:\n",
        "xmin, xmax = -np.sqrt(2 * E(VMAX)), np.sqrt(2 * E(VMAX))\n",
        "x = np.linspace(xmin, xmax, 10000)\n",
        "fig, ax = plt.subplots(figsize=(5,5))\n",
        "for v in range(VMAX):     \n",
        "    # plot potential V(x)\n",
        "    ax.plot(x, V(x), color='black')\n",
        "    # plot psi squared which we shift up by values of energy\n",
        "    ax.plot(x, psi(v,x) ** 2 + E(v), lw=2)\n",
        "    # add lines and labels\n",
        "    ax.axhline(E(v), color='gray', linestyle='--') \n",
        "    ax.text(xmax, 1.2 * E(v), f\"v={v}\")\n",
        "ax.set_xlabel('x')\n",
        "ax.set_ylabel('$\\psi^2_n(x)$')\n",
        "plt.show()"
      ],
      "metadata": {
        "colab": {
          "base_uri": "https://localhost:8080/",
          "height": 334
        },
        "id": "iJvmMHCDcaDN",
        "outputId": "536b6c79-72c3-451c-a568-e4e26697e178"
      },
      "execution_count": 9,
      "outputs": [
        {
          "output_type": "display_data",
          "data": {
            "text/plain": [
              "<Figure size 360x360 with 1 Axes>"
            ],
            "image/png": "[encoded data removed]"
          },
          "metadata": {
            "needs_background": "light"
          }
        }
      ]
    },
    {
      "cell_type": "code",
      "source": [
        "X0 = -4\n",
        "XD = 4\n",
        "ND = 600\n",
        "DELTAT = 2 * np.pi / 128\n",
        "\n",
        "x = np.linspace(X0, XD, ND + 1)"
      ],
      "metadata": {
        "id": "Jog8px_mo7EL"
      },
      "execution_count": 6,
      "outputs": []
    },
    {
      "cell_type": "code",
      "source": [
        "def func_K(xb, xa):\n",
        "    part1 = np.sqrt(1 / (2 * np.pi * 1j * DELTAT))\n",
        "    part2 = np.exp(1j * (xb - xa)**2 / (2 * DELTAT))\n",
        "    return part1 * part2\n",
        "\n",
        "\n",
        "K = np.zeros((ND + 1, ND + 1), dtype = np.complex64)\n",
        "for i in range(ND + 1):\n",
        "    for j in range(ND + 1):\n",
        "        K[i, j] = func_K(x[i], x[j])\n",
        "print(K)"
      ],
      "metadata": {
        "colab": {
          "base_uri": "https://localhost:8080/"
        },
        "id": "U-LqktMVpgsW",
        "outputId": "0641cee4-89fc-4bd5-8925-35c917fecded"
      },
      "execution_count": 7,
      "outputs": [
        {
          "output_type": "stream",
          "name": "stdout",
          "text": [
            "[[ 1.2732395 -1.2732395j  1.2755431 -1.2709318j  1.2824285 -1.2639837j\n",
            "  ...  1.6629561 -0.6905467j -0.3633425 +1.763593j\n",
            "  -1.2498943 -1.2961645j]\n",
            " [ 1.2755431 -1.2709318j  1.2732395 -1.2732395j  1.2755431 -1.2709318j\n",
            "  ... -1.5021374 -0.9929053j  1.6629561 -0.6905467j\n",
            "  -0.3633425 +1.763593j ]\n",
            " [ 1.2824285 -1.2639837j  1.2755431 -1.2709318j  1.2732395 -1.2732395j\n",
            "  ...  0.00982709+1.8006058j -1.5021374 -0.9929053j\n",
            "   1.6629561 -0.6905467j]\n",
            " ...\n",
            " [ 1.6629561 -0.6905467j -1.5021374 -0.9929053j  0.00982709+1.8006058j\n",
            "  ...  1.2732395 -1.2732395j  1.2755431 -1.2709318j\n",
            "   1.2824285 -1.2639837j]\n",
            " [-0.3633425 +1.763593j   1.6629561 -0.6905467j -1.5021374 -0.9929053j\n",
            "  ...  1.2755431 -1.2709318j  1.2732395 -1.2732395j\n",
            "   1.2755431 -1.2709318j]\n",
            " [-1.2498943 -1.2961645j -0.3633425 +1.763593j   1.6629561 -0.6905467j\n",
            "  ...  1.2824285 -1.2639837j  1.2755431 -1.2709318j\n",
            "   1.2732395 -1.2732395j]]\n"
          ]
        }
      ]
    }
  ]
}